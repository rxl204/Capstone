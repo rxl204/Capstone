{
 "cells": [
  {
   "cell_type": "markdown",
   "metadata": {},
   "source": [
    "# Taipei \n",
    "## Data Cleaning and Translation"
   ]
  },
  {
   "cell_type": "code",
   "execution_count": 154,
   "metadata": {},
   "outputs": [],
   "source": [
    "import pandas as pd\n",
    "import geopandas as gpd\n",
    "from shapely.geometry import Point\n",
    "from fiona.crs import from_epsg\n",
    "import geopandas.tools\n",
    "import folium\n",
    "from folium import plugins\n",
    "from IPython.display import Image"
   ]
  },
  {
   "cell_type": "code",
   "execution_count": 41,
   "metadata": {},
   "outputs": [],
   "source": [
    "#Image(filename='taipei-metro-map.jpg') "
   ]
  },
  {
   "cell_type": "code",
   "execution_count": 42,
   "metadata": {},
   "outputs": [
    {
     "data": {
      "text/html": [
       "<div>\n",
       "<style>\n",
       "    .dataframe thead tr:only-child th {\n",
       "        text-align: right;\n",
       "    }\n",
       "\n",
       "    .dataframe thead th {\n",
       "        text-align: left;\n",
       "    }\n",
       "\n",
       "    .dataframe tbody tr th {\n",
       "        vertical-align: top;\n",
       "    }\n",
       "</style>\n",
       "<table border=\"1\" class=\"dataframe\">\n",
       "  <thead>\n",
       "    <tr style=\"text-align: right;\">\n",
       "      <th></th>\n",
       "      <th>line</th>\n",
       "      <th>stationA</th>\n",
       "      <th>stationB</th>\n",
       "      <th>traveltime</th>\n",
       "      <th>id</th>\n",
       "      <th>stoptime_A</th>\n",
       "    </tr>\n",
       "  </thead>\n",
       "  <tbody>\n",
       "    <tr>\n",
       "      <th>0</th>\n",
       "      <td>淡水-象山</td>\n",
       "      <td>捷運淡水站</td>\n",
       "      <td>捷運紅樹林站</td>\n",
       "      <td>175</td>\n",
       "      <td>1</td>\n",
       "      <td>0</td>\n",
       "    </tr>\n",
       "    <tr>\n",
       "      <th>1</th>\n",
       "      <td>淡水-象山</td>\n",
       "      <td>捷運紅樹林站</td>\n",
       "      <td>捷運竹圍站</td>\n",
       "      <td>136</td>\n",
       "      <td>2</td>\n",
       "      <td>25</td>\n",
       "    </tr>\n",
       "    <tr>\n",
       "      <th>2</th>\n",
       "      <td>淡水-象山</td>\n",
       "      <td>捷運竹圍站</td>\n",
       "      <td>捷運關渡站</td>\n",
       "      <td>145</td>\n",
       "      <td>3</td>\n",
       "      <td>25</td>\n",
       "    </tr>\n",
       "    <tr>\n",
       "      <th>3</th>\n",
       "      <td>淡水-象山</td>\n",
       "      <td>捷運關渡站</td>\n",
       "      <td>捷運忠義站</td>\n",
       "      <td>78</td>\n",
       "      <td>4</td>\n",
       "      <td>25</td>\n",
       "    </tr>\n",
       "    <tr>\n",
       "      <th>4</th>\n",
       "      <td>淡水-象山</td>\n",
       "      <td>捷運忠義站</td>\n",
       "      <td>捷運復興崗站</td>\n",
       "      <td>109</td>\n",
       "      <td>5</td>\n",
       "      <td>25</td>\n",
       "    </tr>\n",
       "  </tbody>\n",
       "</table>\n",
       "</div>"
      ],
      "text/plain": [
       "    line stationA stationB  traveltime  id  stoptime_A\n",
       "0  淡水-象山    捷運淡水站   捷運紅樹林站         175   1           0\n",
       "1  淡水-象山   捷運紅樹林站    捷運竹圍站         136   2          25\n",
       "2  淡水-象山    捷運竹圍站    捷運關渡站         145   3          25\n",
       "3  淡水-象山    捷運關渡站    捷運忠義站          78   4          25\n",
       "4  淡水-象山    捷運忠義站   捷運復興崗站         109   5          25"
      ]
     },
     "execution_count": 42,
     "metadata": {},
     "output_type": "execute_result"
    }
   ],
   "source": [
    "ltt = pd.read_csv(\"taipei-metro-link-travel-time.csv\")\n",
    "ltt.head()"
   ]
  },
  {
   "cell_type": "code",
   "execution_count": 43,
   "metadata": {},
   "outputs": [
    {
     "data": {
      "text/html": [
       "<div>\n",
       "<style>\n",
       "    .dataframe thead tr:only-child th {\n",
       "        text-align: right;\n",
       "    }\n",
       "\n",
       "    .dataframe thead th {\n",
       "        text-align: left;\n",
       "    }\n",
       "\n",
       "    .dataframe tbody tr th {\n",
       "        vertical-align: top;\n",
       "    }\n",
       "</style>\n",
       "<table border=\"1\" class=\"dataframe\">\n",
       "  <thead>\n",
       "    <tr style=\"text-align: right;\">\n",
       "      <th></th>\n",
       "      <th>line</th>\n",
       "      <th>stationA</th>\n",
       "      <th>stationB</th>\n",
       "      <th>traveltime</th>\n",
       "      <th>id</th>\n",
       "      <th>stoptime_A</th>\n",
       "    </tr>\n",
       "  </thead>\n",
       "  <tbody>\n",
       "    <tr>\n",
       "      <th>0</th>\n",
       "      <td>淡水-象山</td>\n",
       "      <td>淡水</td>\n",
       "      <td>紅樹林</td>\n",
       "      <td>175</td>\n",
       "      <td>1</td>\n",
       "      <td>0</td>\n",
       "    </tr>\n",
       "    <tr>\n",
       "      <th>1</th>\n",
       "      <td>淡水-象山</td>\n",
       "      <td>紅樹林</td>\n",
       "      <td>竹圍</td>\n",
       "      <td>136</td>\n",
       "      <td>2</td>\n",
       "      <td>25</td>\n",
       "    </tr>\n",
       "    <tr>\n",
       "      <th>2</th>\n",
       "      <td>淡水-象山</td>\n",
       "      <td>竹圍</td>\n",
       "      <td>關渡</td>\n",
       "      <td>145</td>\n",
       "      <td>3</td>\n",
       "      <td>25</td>\n",
       "    </tr>\n",
       "    <tr>\n",
       "      <th>3</th>\n",
       "      <td>淡水-象山</td>\n",
       "      <td>關渡</td>\n",
       "      <td>忠義</td>\n",
       "      <td>78</td>\n",
       "      <td>4</td>\n",
       "      <td>25</td>\n",
       "    </tr>\n",
       "    <tr>\n",
       "      <th>4</th>\n",
       "      <td>淡水-象山</td>\n",
       "      <td>忠義</td>\n",
       "      <td>復興崗</td>\n",
       "      <td>109</td>\n",
       "      <td>5</td>\n",
       "      <td>25</td>\n",
       "    </tr>\n",
       "  </tbody>\n",
       "</table>\n",
       "</div>"
      ],
      "text/plain": [
       "    line stationA stationB  traveltime  id  stoptime_A\n",
       "0  淡水-象山       淡水      紅樹林         175   1           0\n",
       "1  淡水-象山      紅樹林       竹圍         136   2          25\n",
       "2  淡水-象山       竹圍       關渡         145   3          25\n",
       "3  淡水-象山       關渡       忠義          78   4          25\n",
       "4  淡水-象山       忠義      復興崗         109   5          25"
      ]
     },
     "execution_count": 43,
     "metadata": {},
     "output_type": "execute_result"
    }
   ],
   "source": [
    "# remove redundant characters\n",
    "ltt[\"stationA\"] = ltt[\"stationA\"].str.replace(\"捷運\", \"\")\n",
    "ltt[\"stationA\"] = ltt[\"stationA\"].str.replace(\"站\", \"\")\n",
    "ltt[\"stationB\"] = ltt[\"stationB\"].str.replace(\"捷運\", \"\")\n",
    "ltt[\"stationB\"] = ltt[\"stationB\"].str.replace(\"站\", \"\")\n",
    "ltt.head()"
   ]
  },
  {
   "cell_type": "code",
   "execution_count": 44,
   "metadata": {},
   "outputs": [],
   "source": [
    "# create a dictionary for line name mapping\n",
    "### s: short-turn route\n",
    "### f: feeder route\n",
    "### O1, O2: branch routes of Orange line\n",
    "line_dict = {'淡水-象山':'R',\n",
    "             '北投-大安':'Rs',\n",
    "             '松山-新店':'G',\n",
    "             '松山-台電大樓':'Gs',\n",
    "             '七張-小碧潭':'Gf',\n",
    "             '北投-新北投':'Rf',\n",
    "             '南港展覽館-頂埔':'BL',\n",
    "             '南港展覽館-亞東醫院':'BLs',\n",
    "             '動物園-南港展覽館':'BR',\n",
    "             '南勢角-蘆洲':'O2',\n",
    "             '南勢角-迴龍':'O1'}"
   ]
  },
  {
   "cell_type": "code",
   "execution_count": 45,
   "metadata": {},
   "outputs": [],
   "source": [
    "# create a dictionary for station name mapping\n",
    "name = pd.read_csv(\"taipei-metro-station-id.csv\")\n",
    "\n",
    "station_dict = dict(zip(name['name_ch'], name['station_id']))"
   ]
  },
  {
   "cell_type": "code",
   "execution_count": 46,
   "metadata": {},
   "outputs": [
    {
     "data": {
      "text/html": [
       "<div>\n",
       "<style>\n",
       "    .dataframe thead tr:only-child th {\n",
       "        text-align: right;\n",
       "    }\n",
       "\n",
       "    .dataframe thead th {\n",
       "        text-align: left;\n",
       "    }\n",
       "\n",
       "    .dataframe tbody tr th {\n",
       "        vertical-align: top;\n",
       "    }\n",
       "</style>\n",
       "<table border=\"1\" class=\"dataframe\">\n",
       "  <thead>\n",
       "    <tr style=\"text-align: right;\">\n",
       "      <th></th>\n",
       "      <th>line</th>\n",
       "      <th>stationA</th>\n",
       "      <th>stationB</th>\n",
       "      <th>traveltime</th>\n",
       "      <th>id</th>\n",
       "      <th>stoptime_A</th>\n",
       "    </tr>\n",
       "  </thead>\n",
       "  <tbody>\n",
       "    <tr>\n",
       "      <th>0</th>\n",
       "      <td>R</td>\n",
       "      <td>R28</td>\n",
       "      <td>R27</td>\n",
       "      <td>175</td>\n",
       "      <td>1</td>\n",
       "      <td>0</td>\n",
       "    </tr>\n",
       "    <tr>\n",
       "      <th>1</th>\n",
       "      <td>R</td>\n",
       "      <td>R27</td>\n",
       "      <td>R26</td>\n",
       "      <td>136</td>\n",
       "      <td>2</td>\n",
       "      <td>25</td>\n",
       "    </tr>\n",
       "    <tr>\n",
       "      <th>2</th>\n",
       "      <td>R</td>\n",
       "      <td>R26</td>\n",
       "      <td>R25</td>\n",
       "      <td>145</td>\n",
       "      <td>3</td>\n",
       "      <td>25</td>\n",
       "    </tr>\n",
       "    <tr>\n",
       "      <th>3</th>\n",
       "      <td>R</td>\n",
       "      <td>R25</td>\n",
       "      <td>R24</td>\n",
       "      <td>78</td>\n",
       "      <td>4</td>\n",
       "      <td>25</td>\n",
       "    </tr>\n",
       "    <tr>\n",
       "      <th>4</th>\n",
       "      <td>R</td>\n",
       "      <td>R24</td>\n",
       "      <td>R23</td>\n",
       "      <td>109</td>\n",
       "      <td>5</td>\n",
       "      <td>25</td>\n",
       "    </tr>\n",
       "  </tbody>\n",
       "</table>\n",
       "</div>"
      ],
      "text/plain": [
       "  line stationA stationB  traveltime  id  stoptime_A\n",
       "0    R      R28      R27         175   1           0\n",
       "1    R      R27      R26         136   2          25\n",
       "2    R      R26      R25         145   3          25\n",
       "3    R      R25      R24          78   4          25\n",
       "4    R      R24      R23         109   5          25"
      ]
     },
     "execution_count": 46,
     "metadata": {},
     "output_type": "execute_result"
    }
   ],
   "source": [
    "# map line and stations to ids\n",
    "ltt.replace({\"line\":line_dict,\n",
    "             \"stationA\":station_dict,\n",
    "             \"stationB\":station_dict}, inplace=True)\n",
    "ltt.head()"
   ]
  },
  {
   "cell_type": "code",
   "execution_count": 47,
   "metadata": {},
   "outputs": [],
   "source": [
    "#save to new file\n",
    "ltt.to_csv(\"ltt.csv\")"
   ]
  },
  {
   "cell_type": "markdown",
   "metadata": {},
   "source": [
    "Note: some discrepancies in station names, these were changed manually and updated as 'tpe_ltt_updated.csv'. "
   ]
  },
  {
   "cell_type": "code",
   "execution_count": 48,
   "metadata": {},
   "outputs": [
    {
     "name": "stderr",
     "output_type": "stream",
     "text": [
      "/Users/rachellim/anaconda2/lib/python2.7/site-packages/IPython/core/interactiveshell.py:2718: DtypeWarning: Columns (1) have mixed types. Specify dtype option on import or set low_memory=False.\n",
      "  interactivity=interactivity, compiler=compiler, result=result)\n"
     ]
    },
    {
     "data": {
      "text/html": [
       "<div>\n",
       "<style>\n",
       "    .dataframe thead tr:only-child th {\n",
       "        text-align: right;\n",
       "    }\n",
       "\n",
       "    .dataframe thead th {\n",
       "        text-align: left;\n",
       "    }\n",
       "\n",
       "    .dataframe tbody tr th {\n",
       "        vertical-align: top;\n",
       "    }\n",
       "</style>\n",
       "<table border=\"1\" class=\"dataframe\">\n",
       "  <thead>\n",
       "    <tr style=\"text-align: right;\">\n",
       "      <th></th>\n",
       "      <th>日期</th>\n",
       "      <th>時段</th>\n",
       "      <th>進站</th>\n",
       "      <th>出站</th>\n",
       "      <th>人次</th>\n",
       "    </tr>\n",
       "  </thead>\n",
       "  <tbody>\n",
       "    <tr>\n",
       "      <th>6858426</th>\n",
       "      <td>2017-02-28</td>\n",
       "      <td>23</td>\n",
       "      <td>丹鳳</td>\n",
       "      <td>三民高中</td>\n",
       "      <td>0.0</td>\n",
       "    </tr>\n",
       "    <tr>\n",
       "      <th>6858427</th>\n",
       "      <td>2017-02-28</td>\n",
       "      <td>23</td>\n",
       "      <td>丹鳳</td>\n",
       "      <td>徐匯中學</td>\n",
       "      <td>0.0</td>\n",
       "    </tr>\n",
       "    <tr>\n",
       "      <th>6858428</th>\n",
       "      <td>2017-02-28</td>\n",
       "      <td>23</td>\n",
       "      <td>丹鳳</td>\n",
       "      <td>三和國中</td>\n",
       "      <td>0.0</td>\n",
       "    </tr>\n",
       "    <tr>\n",
       "      <th>6858429</th>\n",
       "      <td>2017-02-28</td>\n",
       "      <td>23</td>\n",
       "      <td>丹鳳</td>\n",
       "      <td>三重國小</td>\n",
       "      <td>0.0</td>\n",
       "    </tr>\n",
       "    <tr>\n",
       "      <th>6858430</th>\n",
       "      <td>2017-02-28</td>\n",
       "      <td>23</td>\n",
       "      <td>丹鳳</td>\n",
       "      <td>丹鳳</td>\n",
       "      <td>3.0</td>\n",
       "    </tr>\n",
       "  </tbody>\n",
       "</table>\n",
       "</div>"
      ],
      "text/plain": [
       "                日期  時段  進站    出站   人次\n",
       "6858426 2017-02-28  23  丹鳳  三民高中  0.0\n",
       "6858427 2017-02-28  23  丹鳳  徐匯中學  0.0\n",
       "6858428 2017-02-28  23  丹鳳  三和國中  0.0\n",
       "6858429 2017-02-28  23  丹鳳  三重國小  0.0\n",
       "6858430 2017-02-28  23  丹鳳    丹鳳  3.0"
      ]
     },
     "execution_count": 48,
     "metadata": {},
     "output_type": "execute_result"
    }
   ],
   "source": [
    "df_0217 = pd.read_csv(\"TPE_OD_0217.csv\", sep='\\s+', index_col=0, skiprows=[1,6858432,6858434]).reset_index().drop([6858431])\n",
    "df_0217['日期'] = pd.to_datetime(df_0217['日期'])\n",
    "df_0217.tail()"
   ]
  },
  {
   "cell_type": "code",
   "execution_count": 49,
   "metadata": {},
   "outputs": [
    {
     "data": {
      "text/html": [
       "<div>\n",
       "<style>\n",
       "    .dataframe thead tr:only-child th {\n",
       "        text-align: right;\n",
       "    }\n",
       "\n",
       "    .dataframe thead th {\n",
       "        text-align: left;\n",
       "    }\n",
       "\n",
       "    .dataframe tbody tr th {\n",
       "        vertical-align: top;\n",
       "    }\n",
       "</style>\n",
       "<table border=\"1\" class=\"dataframe\">\n",
       "  <thead>\n",
       "    <tr style=\"text-align: right;\">\n",
       "      <th></th>\n",
       "      <th>日期</th>\n",
       "      <th>時段</th>\n",
       "      <th>進站</th>\n",
       "      <th>出站</th>\n",
       "      <th>人次</th>\n",
       "    </tr>\n",
       "  </thead>\n",
       "  <tbody>\n",
       "    <tr>\n",
       "      <th>0</th>\n",
       "      <td>2017-02-01</td>\n",
       "      <td>0</td>\n",
       "      <td>BR13</td>\n",
       "      <td>BR13</td>\n",
       "      <td>0.0</td>\n",
       "    </tr>\n",
       "    <tr>\n",
       "      <th>1</th>\n",
       "      <td>2017-02-01</td>\n",
       "      <td>0</td>\n",
       "      <td>BR13</td>\n",
       "      <td>BR12</td>\n",
       "      <td>0.0</td>\n",
       "    </tr>\n",
       "    <tr>\n",
       "      <th>2</th>\n",
       "      <td>2017-02-01</td>\n",
       "      <td>0</td>\n",
       "      <td>BR13</td>\n",
       "      <td>G16</td>\n",
       "      <td>0.0</td>\n",
       "    </tr>\n",
       "    <tr>\n",
       "      <th>3</th>\n",
       "      <td>2017-02-01</td>\n",
       "      <td>0</td>\n",
       "      <td>BR13</td>\n",
       "      <td>BL15</td>\n",
       "      <td>0.0</td>\n",
       "    </tr>\n",
       "    <tr>\n",
       "      <th>4</th>\n",
       "      <td>2017-02-01</td>\n",
       "      <td>0</td>\n",
       "      <td>BR13</td>\n",
       "      <td>R05</td>\n",
       "      <td>1.0</td>\n",
       "    </tr>\n",
       "  </tbody>\n",
       "</table>\n",
       "</div>"
      ],
      "text/plain": [
       "          日期 時段    進站    出站   人次\n",
       "0 2017-02-01  0  BR13  BR13  0.0\n",
       "1 2017-02-01  0  BR13  BR12  0.0\n",
       "2 2017-02-01  0  BR13   G16  0.0\n",
       "3 2017-02-01  0  BR13  BL15  0.0\n",
       "4 2017-02-01  0  BR13   R05  1.0"
      ]
     },
     "execution_count": 49,
     "metadata": {},
     "output_type": "execute_result"
    }
   ],
   "source": [
    "# map stations to ids\n",
    "df_0217.replace({\"進站\":station_dict,\n",
    "             \"出站\":station_dict}, inplace=True)\n",
    "df_0217.replace('大橋頭站', 'O12', inplace=True)\n",
    "df_0217.head()"
   ]
  },
  {
   "cell_type": "code",
   "execution_count": 50,
   "metadata": {},
   "outputs": [
    {
     "data": {
      "text/plain": [
       "(6858431, 5)"
      ]
     },
     "execution_count": 50,
     "metadata": {},
     "output_type": "execute_result"
    }
   ],
   "source": [
    "df_0217.shape"
   ]
  },
  {
   "cell_type": "code",
   "execution_count": 51,
   "metadata": {},
   "outputs": [],
   "source": [
    "df_0217.to_csv('OD_Feb17.csv')"
   ]
  },
  {
   "cell_type": "markdown",
   "metadata": {},
   "source": [
    "After checking data, all stations have been renamed except '大橋頭站'. Replace with corresponding station name 'O12'"
   ]
  },
  {
   "cell_type": "markdown",
   "metadata": {},
   "source": [
    "## Preliminary Analysis"
   ]
  },
  {
   "cell_type": "code",
   "execution_count": 6,
   "metadata": {},
   "outputs": [],
   "source": [
    "feb = pd.read_csv('OD_Feb17.csv').drop('Unnamed: 0', axis=1)"
   ]
  },
  {
   "cell_type": "code",
   "execution_count": 7,
   "metadata": {},
   "outputs": [
    {
     "data": {
      "text/html": [
       "<div>\n",
       "<style>\n",
       "    .dataframe thead tr:only-child th {\n",
       "        text-align: right;\n",
       "    }\n",
       "\n",
       "    .dataframe thead th {\n",
       "        text-align: left;\n",
       "    }\n",
       "\n",
       "    .dataframe tbody tr th {\n",
       "        vertical-align: top;\n",
       "    }\n",
       "</style>\n",
       "<table border=\"1\" class=\"dataframe\">\n",
       "  <thead>\n",
       "    <tr style=\"text-align: right;\">\n",
       "      <th></th>\n",
       "      <th>日期</th>\n",
       "      <th>時段</th>\n",
       "      <th>進站</th>\n",
       "      <th>出站</th>\n",
       "      <th>人次</th>\n",
       "    </tr>\n",
       "  </thead>\n",
       "  <tbody>\n",
       "    <tr>\n",
       "      <th>0</th>\n",
       "      <td>2017-02-01</td>\n",
       "      <td>0</td>\n",
       "      <td>BR13</td>\n",
       "      <td>BR13</td>\n",
       "      <td>0.0</td>\n",
       "    </tr>\n",
       "    <tr>\n",
       "      <th>1</th>\n",
       "      <td>2017-02-01</td>\n",
       "      <td>0</td>\n",
       "      <td>BR13</td>\n",
       "      <td>BR12</td>\n",
       "      <td>0.0</td>\n",
       "    </tr>\n",
       "    <tr>\n",
       "      <th>2</th>\n",
       "      <td>2017-02-01</td>\n",
       "      <td>0</td>\n",
       "      <td>BR13</td>\n",
       "      <td>G16</td>\n",
       "      <td>0.0</td>\n",
       "    </tr>\n",
       "    <tr>\n",
       "      <th>3</th>\n",
       "      <td>2017-02-01</td>\n",
       "      <td>0</td>\n",
       "      <td>BR13</td>\n",
       "      <td>BL15</td>\n",
       "      <td>0.0</td>\n",
       "    </tr>\n",
       "    <tr>\n",
       "      <th>4</th>\n",
       "      <td>2017-02-01</td>\n",
       "      <td>0</td>\n",
       "      <td>BR13</td>\n",
       "      <td>R05</td>\n",
       "      <td>1.0</td>\n",
       "    </tr>\n",
       "  </tbody>\n",
       "</table>\n",
       "</div>"
      ],
      "text/plain": [
       "           日期  時段    進站    出站   人次\n",
       "0  2017-02-01   0  BR13  BR13  0.0\n",
       "1  2017-02-01   0  BR13  BR12  0.0\n",
       "2  2017-02-01   0  BR13   G16  0.0\n",
       "3  2017-02-01   0  BR13  BL15  0.0\n",
       "4  2017-02-01   0  BR13   R05  1.0"
      ]
     },
     "execution_count": 7,
     "metadata": {},
     "output_type": "execute_result"
    }
   ],
   "source": [
    "feb.head()"
   ]
  },
  {
   "cell_type": "code",
   "execution_count": 8,
   "metadata": {},
   "outputs": [],
   "source": [
    "feb.columns = ['Date', 'Time', 'In', 'Out', 'Count']"
   ]
  },
  {
   "cell_type": "code",
   "execution_count": 9,
   "metadata": {},
   "outputs": [],
   "source": [
    "daily_volume = feb.groupby('Date')['Count'].sum().reset_index()"
   ]
  },
  {
   "cell_type": "code",
   "execution_count": 10,
   "metadata": {},
   "outputs": [
    {
     "data": {
      "text/html": [
       "<div>\n",
       "<style>\n",
       "    .dataframe thead tr:only-child th {\n",
       "        text-align: right;\n",
       "    }\n",
       "\n",
       "    .dataframe thead th {\n",
       "        text-align: left;\n",
       "    }\n",
       "\n",
       "    .dataframe tbody tr th {\n",
       "        vertical-align: top;\n",
       "    }\n",
       "</style>\n",
       "<table border=\"1\" class=\"dataframe\">\n",
       "  <thead>\n",
       "    <tr style=\"text-align: right;\">\n",
       "      <th></th>\n",
       "      <th>Date</th>\n",
       "      <th>Count</th>\n",
       "    </tr>\n",
       "  </thead>\n",
       "  <tbody>\n",
       "    <tr>\n",
       "      <th>0</th>\n",
       "      <td>2017-02-01</td>\n",
       "      <td>1563403.0</td>\n",
       "    </tr>\n",
       "    <tr>\n",
       "      <th>1</th>\n",
       "      <td>2017-02-02</td>\n",
       "      <td>1988661.0</td>\n",
       "    </tr>\n",
       "    <tr>\n",
       "      <th>2</th>\n",
       "      <td>2017-02-03</td>\n",
       "      <td>2158018.0</td>\n",
       "    </tr>\n",
       "    <tr>\n",
       "      <th>3</th>\n",
       "      <td>2017-02-04</td>\n",
       "      <td>1989778.0</td>\n",
       "    </tr>\n",
       "    <tr>\n",
       "      <th>4</th>\n",
       "      <td>2017-02-05</td>\n",
       "      <td>1708957.0</td>\n",
       "    </tr>\n",
       "    <tr>\n",
       "      <th>5</th>\n",
       "      <td>2017-02-06</td>\n",
       "      <td>2143009.0</td>\n",
       "    </tr>\n",
       "    <tr>\n",
       "      <th>6</th>\n",
       "      <td>2017-02-07</td>\n",
       "      <td>2200629.0</td>\n",
       "    </tr>\n",
       "    <tr>\n",
       "      <th>7</th>\n",
       "      <td>2017-02-08</td>\n",
       "      <td>2242697.0</td>\n",
       "    </tr>\n",
       "    <tr>\n",
       "      <th>8</th>\n",
       "      <td>2017-02-09</td>\n",
       "      <td>2177183.0</td>\n",
       "    </tr>\n",
       "    <tr>\n",
       "      <th>9</th>\n",
       "      <td>2017-02-10</td>\n",
       "      <td>2357280.0</td>\n",
       "    </tr>\n",
       "    <tr>\n",
       "      <th>10</th>\n",
       "      <td>2017-02-11</td>\n",
       "      <td>2097391.0</td>\n",
       "    </tr>\n",
       "    <tr>\n",
       "      <th>11</th>\n",
       "      <td>2017-02-12</td>\n",
       "      <td>1825764.0</td>\n",
       "    </tr>\n",
       "    <tr>\n",
       "      <th>12</th>\n",
       "      <td>2017-02-13</td>\n",
       "      <td>2100706.0</td>\n",
       "    </tr>\n",
       "    <tr>\n",
       "      <th>13</th>\n",
       "      <td>2017-02-14</td>\n",
       "      <td>2164786.0</td>\n",
       "    </tr>\n",
       "    <tr>\n",
       "      <th>14</th>\n",
       "      <td>2017-02-15</td>\n",
       "      <td>2131304.0</td>\n",
       "    </tr>\n",
       "    <tr>\n",
       "      <th>15</th>\n",
       "      <td>2017-02-16</td>\n",
       "      <td>2139756.0</td>\n",
       "    </tr>\n",
       "    <tr>\n",
       "      <th>16</th>\n",
       "      <td>2017-02-17</td>\n",
       "      <td>2266985.0</td>\n",
       "    </tr>\n",
       "    <tr>\n",
       "      <th>17</th>\n",
       "      <td>2017-02-18</td>\n",
       "      <td>2226445.0</td>\n",
       "    </tr>\n",
       "    <tr>\n",
       "      <th>18</th>\n",
       "      <td>2017-02-19</td>\n",
       "      <td>1858209.0</td>\n",
       "    </tr>\n",
       "    <tr>\n",
       "      <th>19</th>\n",
       "      <td>2017-02-20</td>\n",
       "      <td>2125719.0</td>\n",
       "    </tr>\n",
       "    <tr>\n",
       "      <th>20</th>\n",
       "      <td>2017-02-21</td>\n",
       "      <td>2150944.0</td>\n",
       "    </tr>\n",
       "    <tr>\n",
       "      <th>21</th>\n",
       "      <td>2017-02-22</td>\n",
       "      <td>2139167.0</td>\n",
       "    </tr>\n",
       "    <tr>\n",
       "      <th>22</th>\n",
       "      <td>2017-02-23</td>\n",
       "      <td>2152590.0</td>\n",
       "    </tr>\n",
       "    <tr>\n",
       "      <th>23</th>\n",
       "      <td>2017-02-24</td>\n",
       "      <td>2343907.0</td>\n",
       "    </tr>\n",
       "    <tr>\n",
       "      <th>24</th>\n",
       "      <td>2017-02-25</td>\n",
       "      <td>1805330.0</td>\n",
       "    </tr>\n",
       "    <tr>\n",
       "      <th>25</th>\n",
       "      <td>2017-02-26</td>\n",
       "      <td>1719565.0</td>\n",
       "    </tr>\n",
       "    <tr>\n",
       "      <th>26</th>\n",
       "      <td>2017-02-27</td>\n",
       "      <td>1850801.0</td>\n",
       "    </tr>\n",
       "    <tr>\n",
       "      <th>27</th>\n",
       "      <td>2017-02-28</td>\n",
       "      <td>1614517.0</td>\n",
       "    </tr>\n",
       "  </tbody>\n",
       "</table>\n",
       "</div>"
      ],
      "text/plain": [
       "          Date      Count\n",
       "0   2017-02-01  1563403.0\n",
       "1   2017-02-02  1988661.0\n",
       "2   2017-02-03  2158018.0\n",
       "3   2017-02-04  1989778.0\n",
       "4   2017-02-05  1708957.0\n",
       "5   2017-02-06  2143009.0\n",
       "6   2017-02-07  2200629.0\n",
       "7   2017-02-08  2242697.0\n",
       "8   2017-02-09  2177183.0\n",
       "9   2017-02-10  2357280.0\n",
       "10  2017-02-11  2097391.0\n",
       "11  2017-02-12  1825764.0\n",
       "12  2017-02-13  2100706.0\n",
       "13  2017-02-14  2164786.0\n",
       "14  2017-02-15  2131304.0\n",
       "15  2017-02-16  2139756.0\n",
       "16  2017-02-17  2266985.0\n",
       "17  2017-02-18  2226445.0\n",
       "18  2017-02-19  1858209.0\n",
       "19  2017-02-20  2125719.0\n",
       "20  2017-02-21  2150944.0\n",
       "21  2017-02-22  2139167.0\n",
       "22  2017-02-23  2152590.0\n",
       "23  2017-02-24  2343907.0\n",
       "24  2017-02-25  1805330.0\n",
       "25  2017-02-26  1719565.0\n",
       "26  2017-02-27  1850801.0\n",
       "27  2017-02-28  1614517.0"
      ]
     },
     "execution_count": 10,
     "metadata": {},
     "output_type": "execute_result"
    }
   ],
   "source": [
    "daily_volume"
   ]
  },
  {
   "cell_type": "code",
   "execution_count": 11,
   "metadata": {},
   "outputs": [
    {
     "data": {
      "image/png": "[encoded data removed]",
      "text/plain": [
       "<matplotlib.figure.Figure at 0x1115652d0>"
      ]
     },
     "metadata": {},
     "output_type": "display_data"
    }
   ],
   "source": [
    "import matplotlib.pyplot as plt\n",
    "import datetime\n",
    "import numpy as np\n",
    "plt.figure(figsize=(12,8))\n",
    "daily_volume['Date'] = pd.to_datetime(daily_volume['Date'], format= \"%Y-%m-%d\")\n",
    "plt.plot(daily_volume['Date'], daily_volume['Count'])\n",
    "plt.show()"
   ]
  },
  {
   "cell_type": "code",
   "execution_count": 19,
   "metadata": {},
   "outputs": [
    {
     "name": "stdout",
     "output_type": "stream",
     "text": [
      "(69984, 5)\n",
      "(58320, 5)\n"
     ]
    }
   ],
   "source": [
    "#filter for one day\n",
    "feb01 = feb.loc[feb['Date'] == '2017-02-01']\n",
    "#group data into AM and PM peak for plotting\n",
    "AMpeak = [5, 6, 7, 8, 9, 10]\n",
    "PMpeak = [15, 16, 17, 18, 19]\n",
    "feb01AMPeak = feb01.loc[feb01['Time'].isin(AMpeak)]\n",
    "feb01PMPeak = feb01.loc[feb01['Time'].isin(PMpeak)]\n",
    "print feb01AMPeak.shape\n",
    "print feb01PMPeak.shape"
   ]
  },
  {
   "cell_type": "code",
   "execution_count": 26,
   "metadata": {},
   "outputs": [],
   "source": [
    "#convert type 2 to type 1\n",
    "feb01AMPeak = feb01AMPeak.groupby(['In'])['Count'].sum().reset_index()\n",
    "feb01PMPeak = feb01PMPeak.groupby(['In'])['Count'].sum().reset_index()"
   ]
  },
  {
   "cell_type": "code",
   "execution_count": 161,
   "metadata": {},
   "outputs": [],
   "source": [
    "#merge with spatial data\n",
    "feb01AMPeak_geo = feb01AMPeak.merge(master, left_on='In', right_on='name').drop(['name', 'subnode_id'], axis=1)\n",
    "feb01PMPeak_geo = feb01PMPeak.merge(master, left_on='In', right_on='name').drop(['name', 'subnode_id'], axis=1)"
   ]
  },
  {
   "cell_type": "code",
   "execution_count": 159,
   "metadata": {},
   "outputs": [
    {
     "data": {
      "text/html": [
       "<div style=\"width:100%;\"><div style=\"position:relative;width:100%;height:0;padding-bottom:60%;\"><iframe src=\"data:text/html;charset=utf-8;base64,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\" style=\"position:absolute;width:100%;height:100%;left:0;top:0;border:none !important;\" allowfullscreen webkitallowfullscreen mozallowfullscreen></iframe></div></div>"
      ],
      "text/plain": [
       "<folium.folium.Map at 0x11b100d50>"
      ]
     },
     "execution_count": 159,
     "metadata": {},
     "output_type": "execute_result"
    }
   ],
   "source": [
    "m = folium.Map([24.96722082, 121.436827], zoom_start=11)\n",
    "m"
   ]
  },
  {
   "cell_type": "code",
   "execution_count": 163,
   "metadata": {},
   "outputs": [],
   "source": [
    "# mark each station as a point\n",
    "for index, row in feb01PMPeak_geo.iterrows():\n",
    "    folium.CircleMarker([row['lat'], row['lon']],\n",
    "                        radius=15,\n",
    "                        popup=row['In'],\n",
    "                        fill_color=\"#3db7e4\", # divvy color\n",
    "                       ).add_to(m)"
   ]
  },
  {
   "cell_type": "code",
   "execution_count": 167,
   "metadata": {},
   "outputs": [],
   "source": [
    "# convert to (n, 2) nd-array format for heatmap\n",
    "stationArr = feb01PMPeak_geo[['lat', 'lon']].as_matrix()"
   ]
  },
  {
   "cell_type": "code",
   "execution_count": 188,
   "metadata": {},
   "outputs": [],
   "source": [
    "# extract lat, lon, and magnitude for the folium heatmap\n",
    "lats = feb01PMPeak_geo['lat']\n",
    "lons = feb01PMPeak_geo['lon']\n",
    "mag = feb01PMPeak_geo['Count']/float(feb01PMPeak_geo['Count'].max())"
   ]
  },
  {
   "cell_type": "code",
   "execution_count": null,
   "metadata": {},
   "outputs": [],
   "source": [
    "max_amount = float(for_map['Amount'].max())\n",
    "\n",
    "hmap = folium.Map(location=[42.5, -75.5], zoom_start=7, )\n",
    "\n",
    "hm_wide = HeatMap( zip(for_map.lat.values, for_map.lon.values, for_map.Amount.values), \n",
    "                   min_opacity=0.2,\n",
    "                   max_val=max_amount,\n",
    "                   radius=17, blur=15, \n",
    "                   max_zoom=1, \n",
    "                 )"
   ]
  },
  {
   "cell_type": "code",
   "execution_count": 189,
   "metadata": {},
   "outputs": [
    {
     "name": "stderr",
     "output_type": "stream",
     "text": [
      "/Users/rachellim/anaconda2/lib/python2.7/site-packages/ipykernel_launcher.py:10: FutureWarning: Method `add_children` is deprecated. Please use `add_child` instead.\n",
      "  # Remove the CWD from sys.path while we load stuff.\n"
     ]
    },
    {
     "data": {
      "text/html": [
       "<div style=\"width:100%;\"><div style=\"position:relative;width:100%;height:0;padding-bottom:60%;\"><iframe src=\"data:text/html;charset=utf-8;base64,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\" style=\"position:absolute;width:100%;height:100%;left:0;top:0;border:none !important;\" allowfullscreen webkitallowfullscreen mozallowfullscreen></iframe></div></div>"
      ],
      "text/plain": [
       "<folium.folium.Map at 0x119224ed0>"
      ]
     },
     "execution_count": 189,
     "metadata": {},
     "output_type": "execute_result"
    }
   ],
   "source": [
    "# plot heatmap\n",
    "# Using USGS style tile\n",
    "url_base = 'http://server.arcgisonline.com/ArcGIS/rest/services/'\n",
    "service = 'NatGeo_World_Map/MapServer/tile/{z}/{y}/{x}'\n",
    "tileset = url_base + service\n",
    "max_amount = float(feb01PMPeak_geo['Count'].max())\n",
    "\n",
    "m = folium.Map(location=[24.96722082, 121.436827], zoom_start=11,\\\n",
    "                control_scale = True, tiles=tileset, attr='USGS style')\n",
    "\n",
    "m.add_children(plugins.HeatMap(zip(lat, lon, mag), radius = 15))"
   ]
  },
  {
   "cell_type": "code",
   "execution_count": 190,
   "metadata": {},
   "outputs": [
    {
     "data": {
      "text/html": [
       "<div>\n",
       "<style>\n",
       "    .dataframe thead tr:only-child th {\n",
       "        text-align: right;\n",
       "    }\n",
       "\n",
       "    .dataframe thead th {\n",
       "        text-align: left;\n",
       "    }\n",
       "\n",
       "    .dataframe tbody tr th {\n",
       "        vertical-align: top;\n",
       "    }\n",
       "</style>\n",
       "<table border=\"1\" class=\"dataframe\">\n",
       "  <thead>\n",
       "    <tr style=\"text-align: right;\">\n",
       "      <th></th>\n",
       "      <th>In</th>\n",
       "      <th>Count</th>\n",
       "      <th>lat</th>\n",
       "      <th>lon</th>\n",
       "    </tr>\n",
       "  </thead>\n",
       "  <tbody>\n",
       "    <tr>\n",
       "      <th>0</th>\n",
       "      <td>BL02</td>\n",
       "      <td>3487.0</td>\n",
       "      <td>24.967221</td>\n",
       "      <td>121.436827</td>\n",
       "    </tr>\n",
       "    <tr>\n",
       "      <th>1</th>\n",
       "      <td>BL03</td>\n",
       "      <td>1661.0</td>\n",
       "      <td>24.973226</td>\n",
       "      <td>121.444452</td>\n",
       "    </tr>\n",
       "    <tr>\n",
       "      <th>2</th>\n",
       "      <td>BL04</td>\n",
       "      <td>4451.0</td>\n",
       "      <td>24.985548</td>\n",
       "      <td>121.448875</td>\n",
       "    </tr>\n",
       "    <tr>\n",
       "      <th>3</th>\n",
       "      <td>BL05</td>\n",
       "      <td>4135.0</td>\n",
       "      <td>24.998589</td>\n",
       "      <td>121.452649</td>\n",
       "    </tr>\n",
       "    <tr>\n",
       "      <th>4</th>\n",
       "      <td>BL06</td>\n",
       "      <td>8319.0</td>\n",
       "      <td>25.008935</td>\n",
       "      <td>121.459219</td>\n",
       "    </tr>\n",
       "  </tbody>\n",
       "</table>\n",
       "</div>"
      ],
      "text/plain": [
       "     In   Count        lat         lon\n",
       "0  BL02  3487.0  24.967221  121.436827\n",
       "1  BL03  1661.0  24.973226  121.444452\n",
       "2  BL04  4451.0  24.985548  121.448875\n",
       "3  BL05  4135.0  24.998589  121.452649\n",
       "4  BL06  8319.0  25.008935  121.459219"
      ]
     },
     "execution_count": 190,
     "metadata": {},
     "output_type": "execute_result"
    }
   ],
   "source": [
    "feb01PMPeak_geo.head()"
   ]
  },
  {
   "cell_type": "code",
   "execution_count": 193,
   "metadata": {},
   "outputs": [],
   "source": [
    "feb01AMPeak_geo[\"geometry\"] = feb01AMPeak_geo.apply(lambda row: Point(row[\"lon\"], row[\"lat\"]), axis=1)"
   ]
  },
  {
   "cell_type": "code",
   "execution_count": 201,
   "metadata": {},
   "outputs": [],
   "source": [
    "# Convert to a GeoDataFrame\n",
    "crs = {'init': 'epsg:4326'}\n",
    "feb01AMPeak_geo = gpd.GeoDataFrame(feb01AMPeak_geo, geometry=\"geometry\", crs=crs)"
   ]
  },
  {
   "cell_type": "code",
   "execution_count": 203,
   "metadata": {},
   "outputs": [
    {
     "data": {
      "text/html": [
       "<div>\n",
       "<style>\n",
       "    .dataframe thead tr:only-child th {\n",
       "        text-align: right;\n",
       "    }\n",
       "\n",
       "    .dataframe thead th {\n",
       "        text-align: left;\n",
       "    }\n",
       "\n",
       "    .dataframe tbody tr th {\n",
       "        vertical-align: top;\n",
       "    }\n",
       "</style>\n",
       "<table border=\"1\" class=\"dataframe\">\n",
       "  <thead>\n",
       "    <tr style=\"text-align: right;\">\n",
       "      <th></th>\n",
       "      <th>OBJECTID</th>\n",
       "      <th>LENGTH</th>\n",
       "      <th>RouteName</th>\n",
       "      <th>geometry</th>\n",
       "    </tr>\n",
       "  </thead>\n",
       "  <tbody>\n",
       "    <tr>\n",
       "      <th>0</th>\n",
       "      <td>1.0</td>\n",
       "      <td>10078.770</td>\n",
       "      <td>淡水線</td>\n",
       "      <td>(LINESTRING (294734.7749419876 2784579.7576082...</td>\n",
       "    </tr>\n",
       "    <tr>\n",
       "      <th>1</th>\n",
       "      <td>2.0</td>\n",
       "      <td>2095.643</td>\n",
       "      <td>蘆洲線</td>\n",
       "      <td>LINESTRING (297459.4474940991 2776589.34191525...</td>\n",
       "    </tr>\n",
       "    <tr>\n",
       "      <th>2</th>\n",
       "      <td>7.0</td>\n",
       "      <td>4283.014</td>\n",
       "      <td>中和線</td>\n",
       "      <td>LINESTRING (302748.8380457393 2768839.46184240...</td>\n",
       "    </tr>\n",
       "    <tr>\n",
       "      <th>3</th>\n",
       "      <td>10.0</td>\n",
       "      <td>0.000</td>\n",
       "      <td>新店線</td>\n",
       "      <td>LINESTRING (304338.7060529941 2761408.83262833...</td>\n",
       "    </tr>\n",
       "    <tr>\n",
       "      <th>4</th>\n",
       "      <td>11.0</td>\n",
       "      <td>0.000</td>\n",
       "      <td>碧潭支線</td>\n",
       "      <td>LINESTRING (303449.7978839658 2762825.19631635...</td>\n",
       "    </tr>\n",
       "  </tbody>\n",
       "</table>\n",
       "</div>"
      ],
      "text/plain": [
       "   OBJECTID     LENGTH RouteName  \\\n",
       "0       1.0  10078.770       淡水線   \n",
       "1       2.0   2095.643       蘆洲線   \n",
       "2       7.0   4283.014       中和線   \n",
       "3      10.0      0.000       新店線   \n",
       "4      11.0      0.000      碧潭支線   \n",
       "\n",
       "                                            geometry  \n",
       "0  (LINESTRING (294734.7749419876 2784579.7576082...  \n",
       "1  LINESTRING (297459.4474940991 2776589.34191525...  \n",
       "2  LINESTRING (302748.8380457393 2768839.46184240...  \n",
       "3  LINESTRING (304338.7060529941 2761408.83262833...  \n",
       "4  LINESTRING (303449.7978839658 2762825.19631635...  "
      ]
     },
     "execution_count": 203,
     "metadata": {},
     "output_type": "execute_result"
    }
   ],
   "source": [
    "import geopandas as gp\n",
    "route = gp.GeoDataFrame.from_file(\n",
    "    'routes/TpeMRTRoutes_TWD97.shp')\n",
    "route.head()"
   ]
  },
  {
   "cell_type": "code",
   "execution_count": 205,
   "metadata": {},
   "outputs": [
    {
     "data": {
      "text/html": [
       "<div>\n",
       "<style>\n",
       "    .dataframe thead tr:only-child th {\n",
       "        text-align: right;\n",
       "    }\n",
       "\n",
       "    .dataframe thead th {\n",
       "        text-align: left;\n",
       "    }\n",
       "\n",
       "    .dataframe tbody tr th {\n",
       "        vertical-align: top;\n",
       "    }\n",
       "</style>\n",
       "<table border=\"1\" class=\"dataframe\">\n",
       "  <thead>\n",
       "    <tr style=\"text-align: right;\">\n",
       "      <th></th>\n",
       "      <th>In</th>\n",
       "      <th>Count</th>\n",
       "      <th>lat</th>\n",
       "      <th>lon</th>\n",
       "      <th>geometry</th>\n",
       "    </tr>\n",
       "  </thead>\n",
       "  <tbody>\n",
       "    <tr>\n",
       "      <th>0</th>\n",
       "      <td>BL02</td>\n",
       "      <td>1673.0</td>\n",
       "      <td>24.967221</td>\n",
       "      <td>121.436827</td>\n",
       "      <td>POINT (121.4368273 24.96722082)</td>\n",
       "    </tr>\n",
       "    <tr>\n",
       "      <th>1</th>\n",
       "      <td>BL03</td>\n",
       "      <td>1225.0</td>\n",
       "      <td>24.973226</td>\n",
       "      <td>121.444452</td>\n",
       "      <td>POINT (121.4444516 24.97322602)</td>\n",
       "    </tr>\n",
       "    <tr>\n",
       "      <th>2</th>\n",
       "      <td>BL04</td>\n",
       "      <td>3412.0</td>\n",
       "      <td>24.985548</td>\n",
       "      <td>121.448875</td>\n",
       "      <td>POINT (121.4488753 24.98554828)</td>\n",
       "    </tr>\n",
       "    <tr>\n",
       "      <th>3</th>\n",
       "      <td>BL05</td>\n",
       "      <td>2829.0</td>\n",
       "      <td>24.998589</td>\n",
       "      <td>121.452649</td>\n",
       "      <td>POINT (121.4526489 24.99858903)</td>\n",
       "    </tr>\n",
       "    <tr>\n",
       "      <th>4</th>\n",
       "      <td>BL06</td>\n",
       "      <td>3984.0</td>\n",
       "      <td>25.008935</td>\n",
       "      <td>121.459219</td>\n",
       "      <td>POINT (121.4592189 25.00893484)</td>\n",
       "    </tr>\n",
       "  </tbody>\n",
       "</table>\n",
       "</div>"
      ],
      "text/plain": [
       "     In   Count        lat         lon                         geometry\n",
       "0  BL02  1673.0  24.967221  121.436827  POINT (121.4368273 24.96722082)\n",
       "1  BL03  1225.0  24.973226  121.444452  POINT (121.4444516 24.97322602)\n",
       "2  BL04  3412.0  24.985548  121.448875  POINT (121.4488753 24.98554828)\n",
       "3  BL05  2829.0  24.998589  121.452649  POINT (121.4526489 24.99858903)\n",
       "4  BL06  3984.0  25.008935  121.459219  POINT (121.4592189 25.00893484)"
      ]
     },
     "execution_count": 205,
     "metadata": {},
     "output_type": "execute_result"
    }
   ],
   "source": [
    "route.to_crs(epsg=4326, inplace=True)\n",
    "feb01AMPeak_geo.to_crs(epsg=4326, inplace=True)\n",
    "feb01AMPeak_geo.head()"
   ]
  },
  {
   "cell_type": "code",
   "execution_count": 206,
   "metadata": {},
   "outputs": [
    {
     "data": {
      "image/png": "[encoded data removed]",
      "text/plain": [
       "<matplotlib.figure.Figure at 0x11b122d90>"
      ]
     },
     "metadata": {},
     "output_type": "display_data"
    }
   ],
   "source": [
    "fig = plt.figure(figsize = (12,12))\n",
    "ax = fig.add_subplot(111)\n",
    "ax = feb01AMPeak_geo.plot(ax=ax, markersize=feb01AMPeak_geo['Count'])\n",
    "ax = route['geometry'].plot(ax=ax, color='black', alpha=0.5)\n",
    "plt.title('Station Entries in Taipei (AM Peak)', size=12)\n",
    "plt.show()"
   ]
  },
  {
   "cell_type": "markdown",
   "metadata": {},
   "source": [
    "## Generate subnodes"
   ]
  },
  {
   "cell_type": "code",
   "execution_count": 52,
   "metadata": {},
   "outputs": [],
   "source": [
    "import json\n",
    "\n",
    "with open(\"station_locations.json\") as json_file:\n",
    "    json_data = json.load(json_file)\n",
    "    "
   ]
  },
  {
   "cell_type": "code",
   "execution_count": 53,
   "metadata": {},
   "outputs": [
    {
     "data": {
      "text/plain": [
       "u'\\u6de1\\u6c34\\u7ad9'"
      ]
     },
     "execution_count": 53,
     "metadata": {},
     "output_type": "execute_result"
    }
   ],
   "source": [
    "json_data['features'][0]['properties']['NAME']"
   ]
  },
  {
   "cell_type": "code",
   "execution_count": 54,
   "metadata": {},
   "outputs": [
    {
     "data": {
      "text/plain": [
       "103"
      ]
     },
     "execution_count": 54,
     "metadata": {},
     "output_type": "execute_result"
    }
   ],
   "source": [
    "len(json_data['features'])"
   ]
  },
  {
   "cell_type": "code",
   "execution_count": 55,
   "metadata": {},
   "outputs": [],
   "source": [
    "lat = []\n",
    "for i in range(len(json_data['features'])):\n",
    "    lat.append(json_data['features'][i]['geometry']['coordinates'][1])\n",
    "lat = [float(i) for i in lat]"
   ]
  },
  {
   "cell_type": "code",
   "execution_count": 56,
   "metadata": {},
   "outputs": [],
   "source": [
    "lon = []\n",
    "for i in range(len(json_data['features'])):\n",
    "    lon.append(json_data['features'][i]['geometry']['coordinates'][0])\n",
    "lon = [float(i) for i in lon]"
   ]
  },
  {
   "cell_type": "code",
   "execution_count": 57,
   "metadata": {},
   "outputs": [],
   "source": [
    "name = []\n",
    "for i in range(len(json_data['features'])):\n",
    "    name.append(json_data['features'][i]['properties']['NAME'])"
   ]
  },
  {
   "cell_type": "code",
   "execution_count": 58,
   "metadata": {},
   "outputs": [],
   "source": [
    "stops = pd.DataFrame()\n",
    "stops['name'] = name\n",
    "stops['Latitude'] = lat\n",
    "stops['Longitude'] = lon"
   ]
  },
  {
   "cell_type": "code",
   "execution_count": 59,
   "metadata": {},
   "outputs": [],
   "source": [
    "stops.to_csv('stops_chineseNames.csv',encoding=\"utf-8\")"
   ]
  },
  {
   "cell_type": "code",
   "execution_count": 60,
   "metadata": {},
   "outputs": [],
   "source": [
    "#rename stops \n",
    "stops = pd.read_csv('stops_chineseNames.csv')"
   ]
  },
  {
   "cell_type": "code",
   "execution_count": 61,
   "metadata": {},
   "outputs": [],
   "source": [
    "stops['name'] = stops['name'].str.replace(\"站\", \"\")"
   ]
  },
  {
   "cell_type": "code",
   "execution_count": 62,
   "metadata": {},
   "outputs": [],
   "source": [
    "# map line and stations to ids\n",
    "stops.replace({\"name\":station_dict}, inplace=True)\n",
    "stops.drop('Unnamed: 0', axis=1, inplace=True)"
   ]
  },
  {
   "cell_type": "code",
   "execution_count": 63,
   "metadata": {},
   "outputs": [],
   "source": [
    "stops.to_csv('station_locations.csv')"
   ]
  },
  {
   "cell_type": "markdown",
   "metadata": {},
   "source": [
    "Note: again some discrepancies in stations names, some stations with different names and missing stations. Manually edited and saved as 'master_nodes_updated.csv'"
   ]
  },
  {
   "cell_type": "code",
   "execution_count": 64,
   "metadata": {},
   "outputs": [],
   "source": [
    "master = pd.read_csv('master_nodes_updated.csv')"
   ]
  },
  {
   "cell_type": "code",
   "execution_count": 65,
   "metadata": {},
   "outputs": [
    {
     "data": {
      "text/html": [
       "<div>\n",
       "<style>\n",
       "    .dataframe thead tr:only-child th {\n",
       "        text-align: right;\n",
       "    }\n",
       "\n",
       "    .dataframe thead th {\n",
       "        text-align: left;\n",
       "    }\n",
       "\n",
       "    .dataframe tbody tr th {\n",
       "        vertical-align: top;\n",
       "    }\n",
       "</style>\n",
       "<table border=\"1\" class=\"dataframe\">\n",
       "  <thead>\n",
       "    <tr style=\"text-align: right;\">\n",
       "      <th></th>\n",
       "      <th>name</th>\n",
       "      <th>lat</th>\n",
       "      <th>lon</th>\n",
       "    </tr>\n",
       "  </thead>\n",
       "  <tbody>\n",
       "    <tr>\n",
       "      <th>0</th>\n",
       "      <td>R28</td>\n",
       "      <td>25.167993</td>\n",
       "      <td>121.445258</td>\n",
       "    </tr>\n",
       "    <tr>\n",
       "      <th>1</th>\n",
       "      <td>R27</td>\n",
       "      <td>25.154114</td>\n",
       "      <td>121.458954</td>\n",
       "    </tr>\n",
       "    <tr>\n",
       "      <th>2</th>\n",
       "      <td>R26</td>\n",
       "      <td>25.136949</td>\n",
       "      <td>121.459456</td>\n",
       "    </tr>\n",
       "    <tr>\n",
       "      <th>3</th>\n",
       "      <td>R25</td>\n",
       "      <td>25.125652</td>\n",
       "      <td>121.467081</td>\n",
       "    </tr>\n",
       "    <tr>\n",
       "      <th>4</th>\n",
       "      <td>R24</td>\n",
       "      <td>25.131125</td>\n",
       "      <td>121.473242</td>\n",
       "    </tr>\n",
       "  </tbody>\n",
       "</table>\n",
       "</div>"
      ],
      "text/plain": [
       "  name        lat         lon\n",
       "0  R28  25.167993  121.445258\n",
       "1  R27  25.154114  121.458954\n",
       "2  R26  25.136949  121.459456\n",
       "3  R25  25.125652  121.467081\n",
       "4  R24  25.131125  121.473242"
      ]
     },
     "execution_count": 65,
     "metadata": {},
     "output_type": "execute_result"
    }
   ],
   "source": [
    "master.head()"
   ]
  },
  {
   "cell_type": "code",
   "execution_count": 66,
   "metadata": {},
   "outputs": [
    {
     "data": {
      "text/plain": [
       "(114, 3)"
      ]
     },
     "execution_count": 66,
     "metadata": {},
     "output_type": "execute_result"
    }
   ],
   "source": [
    "master.shape"
   ]
  },
  {
   "cell_type": "code",
   "execution_count": 67,
   "metadata": {},
   "outputs": [],
   "source": [
    "transfer = master[master['lat'].duplicated(keep=False)].reset_index(drop=True)"
   ]
  },
  {
   "cell_type": "code",
   "execution_count": 68,
   "metadata": {},
   "outputs": [],
   "source": [
    "transfer.to_csv('transfer.csv')"
   ]
  },
  {
   "cell_type": "code",
   "execution_count": 69,
   "metadata": {},
   "outputs": [],
   "source": [
    "#manually create subnodes for transfer stations\n",
    "transfer_sub = pd.read_csv('transfer_updated.csv')\n",
    "transfer_sub.drop('line', axis=1, inplace=True)"
   ]
  },
  {
   "cell_type": "code",
   "execution_count": 70,
   "metadata": {},
   "outputs": [
    {
     "data": {
      "text/html": [
       "<div>\n",
       "<style>\n",
       "    .dataframe thead tr:only-child th {\n",
       "        text-align: right;\n",
       "    }\n",
       "\n",
       "    .dataframe thead th {\n",
       "        text-align: left;\n",
       "    }\n",
       "\n",
       "    .dataframe tbody tr th {\n",
       "        vertical-align: top;\n",
       "    }\n",
       "</style>\n",
       "<table border=\"1\" class=\"dataframe\">\n",
       "  <thead>\n",
       "    <tr style=\"text-align: right;\">\n",
       "      <th></th>\n",
       "      <th>name</th>\n",
       "      <th>lat</th>\n",
       "      <th>lon</th>\n",
       "      <th>subnode_id</th>\n",
       "    </tr>\n",
       "  </thead>\n",
       "  <tbody>\n",
       "    <tr>\n",
       "      <th>0</th>\n",
       "      <td>R28</td>\n",
       "      <td>25.167993</td>\n",
       "      <td>121.445258</td>\n",
       "      <td>R28_R28</td>\n",
       "    </tr>\n",
       "    <tr>\n",
       "      <th>1</th>\n",
       "      <td>R27</td>\n",
       "      <td>25.154114</td>\n",
       "      <td>121.458954</td>\n",
       "      <td>R27_R27</td>\n",
       "    </tr>\n",
       "    <tr>\n",
       "      <th>2</th>\n",
       "      <td>R26</td>\n",
       "      <td>25.136949</td>\n",
       "      <td>121.459456</td>\n",
       "      <td>R26_R26</td>\n",
       "    </tr>\n",
       "    <tr>\n",
       "      <th>3</th>\n",
       "      <td>R25</td>\n",
       "      <td>25.125652</td>\n",
       "      <td>121.467081</td>\n",
       "      <td>R25_R25</td>\n",
       "    </tr>\n",
       "    <tr>\n",
       "      <th>4</th>\n",
       "      <td>R24</td>\n",
       "      <td>25.131125</td>\n",
       "      <td>121.473242</td>\n",
       "      <td>R24_R24</td>\n",
       "    </tr>\n",
       "  </tbody>\n",
       "</table>\n",
       "</div>"
      ],
      "text/plain": [
       "  name        lat         lon subnode_id\n",
       "0  R28  25.167993  121.445258    R28_R28\n",
       "1  R27  25.154114  121.458954    R27_R27\n",
       "2  R26  25.136949  121.459456    R26_R26\n",
       "3  R25  25.125652  121.467081    R25_R25\n",
       "4  R24  25.131125  121.473242    R24_R24"
      ]
     },
     "execution_count": 70,
     "metadata": {},
     "output_type": "execute_result"
    }
   ],
   "source": [
    "master['subnode_id'] = master['name'] + '_' + master['name']\n",
    "subnodes = master.append(transfer_sub, ignore_index=True)\n",
    "subnodes.head()"
   ]
  },
  {
   "cell_type": "code",
   "execution_count": 71,
   "metadata": {},
   "outputs": [
    {
     "data": {
      "text/plain": [
       "(138, 4)"
      ]
     },
     "execution_count": 71,
     "metadata": {},
     "output_type": "execute_result"
    }
   ],
   "source": [
    "subnodes.shape"
   ]
  },
  {
   "cell_type": "code",
   "execution_count": 72,
   "metadata": {},
   "outputs": [
    {
     "name": "stdout",
     "output_type": "stream",
     "text": [
      "Sub Nodes Number: 138\n",
      "Master Nodes Number: 114\n",
      "Unique Station Name: 114\n"
     ]
    }
   ],
   "source": [
    "print 'Sub Nodes Number:', len(subnodes)\n",
    "print 'Master Nodes Number:', len(master)\n",
    "print 'Unique Station Name:', len(set(master['name']))"
   ]
  },
  {
   "cell_type": "code",
   "execution_count": null,
   "metadata": {},
   "outputs": [],
   "source": []
  }
 ],
 "metadata": {
  "kernelspec": {
   "display_name": "Python 2",
   "language": "python",
   "name": "python2"
  },
  "language_info": {
   "codemirror_mode": {
    "name": "ipython",
    "version": 2
   },
   "file_extension": ".py",
   "mimetype": "text/x-python",
   "name": "python",
   "nbconvert_exporter": "python",
   "pygments_lexer": "ipython2",
   "version": "2.7.13"
  }
 },
 "nbformat": 4,
 "nbformat_minor": 2
}
